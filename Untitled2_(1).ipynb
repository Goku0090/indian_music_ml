{
  "cells": [
    {
      "cell_type": "code",
      "execution_count": 1,
      "metadata": {
        "id": "PAcydB7NIlTW"
      },
      "outputs": [],
      "source": [
        "import spotipy\n",
        "import spotipy.oauth2 as oauth2\n",
        "from spotipy.oauth2 import SpotifyOAuth\n",
        "from spotipy.oauth2 import SpotifyClientCredentials\n",
        "import pandas as pd\n",
        "import time\n",
        "import plotly.express as px\n",
        "\n",
        "\n"
      ]
    },
    {
      "cell_type": "code",
      "execution_count": 2,
      "metadata": {
        "colab": {
          "base_uri": "https://localhost:8080/"
        },
        "id": "zSMGr1I7JdXK",
        "outputId": "c29a43a7-ef66-4a14-f790-b66fe5c11536"
      },
      "outputs": [
        {
          "name": "stdout",
          "output_type": "stream",
          "text": [
            "Requirement already satisfied: spotipy in c:\\users\\admin\\anaconda3\\lib\\site-packages (2.25.1)\n",
            "Requirement already satisfied: redis>=3.5.3 in c:\\users\\admin\\anaconda3\\lib\\site-packages (from spotipy) (6.4.0)\n",
            "Requirement already satisfied: requests>=2.25.0 in c:\\users\\admin\\anaconda3\\lib\\site-packages (from spotipy) (2.32.3)\n",
            "Requirement already satisfied: urllib3>=1.26.0 in c:\\users\\admin\\anaconda3\\lib\\site-packages (from spotipy) (2.3.0)\n",
            "Requirement already satisfied: charset-normalizer<4,>=2 in c:\\users\\admin\\anaconda3\\lib\\site-packages (from requests>=2.25.0->spotipy) (3.3.2)\n",
            "Requirement already satisfied: idna<4,>=2.5 in c:\\users\\admin\\anaconda3\\lib\\site-packages (from requests>=2.25.0->spotipy) (3.7)\n",
            "Requirement already satisfied: certifi>=2017.4.17 in c:\\users\\admin\\anaconda3\\lib\\site-packages (from requests>=2.25.0->spotipy) (2025.4.26)\n",
            "Note: you may need to restart the kernel to use updated packages.\n"
          ]
        }
      ],
      "source": [
        "pip install spotipy"
      ]
    },
    {
      "cell_type": "code",
      "execution_count": 3,
      "metadata": {
        "colab": {
          "base_uri": "https://localhost:8080/"
        },
        "id": "a6ZMzlxeIn8i",
        "outputId": "739d58c3-98b8-4d44-ed0e-8e35c40bf6bc"
      },
      "outputs": [
        {
          "name": "stdout",
          "output_type": "stream",
          "text": [
            "Arijit Singh\n",
            "Followers: 157432850\n",
            "Genres: ['hindi pop', 'bollywood', 'desi', 'bangla pop']\n"
          ]
        }
      ],
      "source": [
        "import spotipy\n",
        "from spotipy.oauth2 import SpotifyClientCredentials\n",
        "\n",
        "cid = \"7f7d4baf8ed144a8970384cef7c8ca78\"\n",
        "cis = \"e2d7d544ea854a7a99545f972a9099e6\"\n",
        "\n",
        "auth_manager = SpotifyClientCredentials(client_id=cid, client_secret=cis)\n",
        "sp = spotipy.Spotify(auth_manager=auth_manager)\n",
        "\n",
        "# Use just the Artist ID\n",
        "artist_id = \"4YRxDV8wJFPHPTeXepOstw\"\n",
        "\n",
        "artist = sp.artist(artist_id)\n",
        "print(artist[\"name\"])\n",
        "print(\"Followers:\", artist[\"followers\"][\"total\"])\n",
        "print(\"Genres:\", artist[\"genres\"])\n"
      ]
    },
    {
      "cell_type": "code",
      "execution_count": 4,
      "metadata": {
        "colab": {
          "base_uri": "https://localhost:8080/"
        },
        "id": "sX-xgJRWIos2",
        "outputId": "0654c553-e7b8-4bcd-c0d0-f84c743c1dec"
      },
      "outputs": [
        {
          "name": "stdout",
          "output_type": "stream",
          "text": [
            "Artist ID: 4YRxDV8wJFPHPTeXepOstw\n",
            "Bollywood Reimagined: Bollywood Fusion Remix\n",
            "The Arijit Singh Collection Vol.3\n",
            "Arijit Singh Top Sad Love Hits\n",
            "Arijit Singh - King of Sad Hits\n",
            "Arijit Singh - Sad Love Songs\n",
            "Arijit Singh - Reprise and Unplugged Hits\n",
            "The Arijit Singh Collection Vol.2\n",
            "Arijit Singh Heartbreak Hits\n",
            "Arijit Singh - Unheard Gems\n",
            "Dil Jhoom With Arijit Singh\n",
            "Arijit Singh Ae Watan - Patriotic Hits\n",
            "Open Stage Recreations - Vol 79\n",
            "Open Stage X Spotlife Studio - Vol 6\n",
            "Open Stage Recreations - Vol 44\n",
            "Open Stage Recreations - Vol 25\n",
            "Open Stage Recreations - Vol 24\n",
            "Arijit Singh Patriotic Hits\n",
            "Non Stop Arijit Singh Hits\n",
            "Open Stage Covers - Vol 92\n",
            "Long Drive (Bollywood Mix)\n",
            "The Arijit Singh Collection\n",
            "Arijit Singh (All Time Hits)\n",
            "Arijit Singh Hits\n",
            "Arijit Singh - India Tour Hits\n",
            "Bismillah\n",
            "YRF Top 10 - Nightout Sounds\n",
            "YRF Top 10 - Bollywood Remixed\n",
            "Pagglait\n",
            "YRF Top 10 - Midnight Hour\n",
            "Acche Din, Acche Gaane\n",
            "Chokher Bahire (Original Motion Picture Soundtrack)\n",
            "Shudhu Tomari Jonyo\n",
            "Golpo Holeo Sotti\n",
            "Chander Pahar\n",
            "Bojhena Se Bojhena\n"
          ]
        }
      ],
      "source": [
        "name = \"Arijit Singh\"\n",
        "result = sp.search(q=name, type=\"artist\", limit=1)\n",
        "artist_id = result['artists']['items'][0]['id']\n",
        "\n",
        "print(\"Artist ID:\", artist_id)\n",
        "\n",
        "# Get artist albums\n",
        "results = sp.artist_albums(artist_id, album_type='album')\n",
        "albums = results['items']\n",
        "\n",
        "while results['next']:\n",
        "    results = sp.next(results)\n",
        "    albums.extend(results['items'])\n",
        "\n",
        "# Print album names\n",
        "for album in albums:\n",
        "    print(album['name'])"
      ]
    },
    {
      "cell_type": "code",
      "execution_count": 5,
      "metadata": {
        "colab": {
          "base_uri": "https://localhost:8080/"
        },
        "id": "yT6mhQ4xIo7y",
        "outputId": "ecef180c-e02a-45a0-f37b-31b7c4e0630d"
      },
      "outputs": [
        {
          "name": "stdout",
          "output_type": "stream",
          "text": [
            "Song : Dhun (From \"Saiyaara\")\n",
            "Audio : None\n",
            "\n",
            "Song : Apna Bana Le\n",
            "Audio : None\n",
            "\n",
            "Song : Aavan Jaavan\n",
            "Audio : None\n",
            "\n",
            "Song : Tujhe Kitna Chahne Lage (From \"Kabir Singh\")\n",
            "Audio : None\n",
            "\n",
            "Song : Tum Hi Ho\n",
            "Audio : None\n",
            "\n",
            "Song : Humdard (From \"Ek Villain\")\n",
            "Audio : None\n",
            "\n",
            "Song : Agar Tum Saath Ho (From \"Tamasha\")\n",
            "Audio : None\n",
            "\n",
            "Song : Mast Magan (From \"2 States)\n",
            "Audio : None\n",
            "\n",
            "Song : Sajni (From \"Laapataa Ladies\")\n",
            "Audio : None\n",
            "\n",
            "Song : Satranga (From \"ANIMAL\")\n",
            "Audio : None\n",
            "\n"
          ]
        }
      ],
      "source": [
        "Arijit_singh_top_tracks = \"spotify:artist:4YRxDV8wJFPHPTeXepOstw\"\n",
        " # changes\n",
        "sp = spotipy.Spotify(auth_manager=auth_manager)\n",
        "results = sp.artist_top_tracks(Arijit_singh_top_tracks, country= 'IND') #changes ng to = in\n",
        "for track in results ['tracks'][:10]:\n",
        "  print('Song :', track['name'])\n",
        "  print('Audio :', track['preview_url'])\n",
        "  print()\n"
      ]
    },
    {
      "cell_type": "code",
      "execution_count": 6,
      "metadata": {
        "colab": {
          "base_uri": "https://localhost:8080/"
        },
        "id": "9Vsapok3PTqo",
        "outputId": "d1bcab51-905a-4879-b2cd-b0c0aed1853c"
      },
      "outputs": [
        {
          "name": "stdout",
          "output_type": "stream",
          "text": [
            "Track ID: 1GFQthxDi4Tqe3wJ5j0G5S\n",
            "Track URL: https://open.spotify.com/track/1GFQthxDi4Tqe3wJ5j0G5S\n"
          ]
        }
      ],
      "source": [
        "track_name = \"Dhun\"\n",
        "results = sp.search(q=track_name, type=\"track\", limit=1)\n",
        "\n",
        "track_id = results['tracks']['items'][0]['id']\n",
        "track_url = results['tracks']['items'][0]['external_urls']['spotify']\n",
        "\n",
        "print(\"Track ID:\", track_id)\n",
        "print(\"Track URL:\", track_url)"
      ]
    },
    {
      "cell_type": "code",
      "execution_count": 7,
      "metadata": {
        "id": "Ggi1DnnEikvt"
      },
      "outputs": [],
      "source": [
        "track_id = \"1GFQthxDi4Tqe3wJ5j0G5S\"\n",
        "\n",
        "# Get track details\n",
        "track_info = sp.track(track_id)\n",
        "\n",
        "\n",
        "\n",
        "# Extract metadata\n",
        "name = track_info['name']\n",
        "album = track_info['album']['name']\n",
        "artist = track_info['album']['artists'][0]['name']\n",
        "release_date = track_info['album']['release_date']\n",
        "length = track_info['duration_ms']\n",
        "popularity = track_info['popularity']"
      ]
    },
    {
      "cell_type": "code",
      "execution_count": 8,
      "metadata": {
        "id": "XjY0jyUPRQkE"
      },
      "outputs": [],
      "source": [
        "track =[name, album, artist, release_date, length, popularity]\n"
      ]
    },
    {
      "cell_type": "code",
      "execution_count": 9,
      "metadata": {
        "id": "6rIOjwrGKsVt"
      },
      "outputs": [],
      "source": [
        "df=pd.DataFrame (track).T.values.tolist()\n",
        "df_final =pd.DataFrame(df, columns=['name', 'album', 'artist', 'release_Date',' length','popularity'])"
      ]
    },
    {
      "cell_type": "code",
      "execution_count": 10,
      "metadata": {
        "colab": {
          "base_uri": "https://localhost:8080/",
          "height": 89
        },
        "id": "YVwnek_JP5mv",
        "outputId": "94737654-e8dd-41e8-a937-0f86f00221cc"
      },
      "outputs": [
        {
          "data": {
            "text/html": [
              "<div>\n",
              "<style scoped>\n",
              "    .dataframe tbody tr th:only-of-type {\n",
              "        vertical-align: middle;\n",
              "    }\n",
              "\n",
              "    .dataframe tbody tr th {\n",
              "        vertical-align: top;\n",
              "    }\n",
              "\n",
              "    .dataframe thead th {\n",
              "        text-align: right;\n",
              "    }\n",
              "</style>\n",
              "<table border=\"1\" class=\"dataframe\">\n",
              "  <thead>\n",
              "    <tr style=\"text-align: right;\">\n",
              "      <th></th>\n",
              "      <th>name</th>\n",
              "      <th>album</th>\n",
              "      <th>artist</th>\n",
              "      <th>release_Date</th>\n",
              "      <th>length</th>\n",
              "      <th>popularity</th>\n",
              "    </tr>\n",
              "  </thead>\n",
              "  <tbody>\n",
              "    <tr>\n",
              "      <th>0</th>\n",
              "      <td>Dhun (From \"Saiyaara\")</td>\n",
              "      <td>Dhun (From \"Saiyaara\")</td>\n",
              "      <td>Mithoon</td>\n",
              "      <td>2025-07-01</td>\n",
              "      <td>276643</td>\n",
              "      <td>81</td>\n",
              "    </tr>\n",
              "  </tbody>\n",
              "</table>\n",
              "</div>"
            ],
            "text/plain": [
              "                     name                   album   artist release_Date  \\\n",
              "0  Dhun (From \"Saiyaara\")  Dhun (From \"Saiyaara\")  Mithoon   2025-07-01   \n",
              "\n",
              "    length  popularity  \n",
              "0   276643          81  "
            ]
          },
          "execution_count": 10,
          "metadata": {},
          "output_type": "execute_result"
        }
      ],
      "source": [
        "df_final"
      ]
    },
    {
      "cell_type": "code",
      "execution_count": 11,
      "metadata": {
        "id": "-dXpZ1vZQBMd"
      },
      "outputs": [],
      "source": [
        "def getTrackIDs(user, playlist_id):\n",
        "  track_ids = []\n",
        "  album = sp.user_playlist(user, playlist_id)\n",
        "  for item in album[ 'tracks']['items']:\n",
        "    track = item[ 'track']\n",
        "    track_ids.append (track['id'])\n",
        "  return track_ids\n",
        "  track_ids = getTrackIDs('spotify', \"1GFQthxDi4Tqe3wJ5j0G5S\" ) #changes\n",
        "  print(len(track_ids) )\n",
        "  print (track_ids)\n",
        "\n"
      ]
    },
    {
      "cell_type": "code",
      "execution_count": 12,
      "metadata": {
        "colab": {
          "base_uri": "https://localhost:8080/"
        },
        "id": "xNElBo66VWd2",
        "outputId": "b42f0111-183e-476d-80ee-81ae687d2f91"
      },
      "outputs": [
        {
          "name": "stdout",
          "output_type": "stream",
          "text": [
            "65\n",
            "['5yDtBUvjNse5mr5887lj59', '29GEhH79MHH2wzB7FXRQ2R', '7MvQQGqYE4r0ucTarmI2Gr', '6idPIsez5weFcg9ezB7m1v', '7kCNIwtNXvNA82CspfQqko', '4mQpBIJKBpd8lcrtZ73SP8', '7Dhy1R9NmD96wfr7VJEN37', '3XyFQxpSlGowWpZkIn3ISA', '63MvWd6T6yoS7h4AJ4Hjrm', '18e3XXYCv4Tx8uUl1mP3CN', '4eu27jAU2bbnyHUC3G75U8', '352wEkChkiClswqwDoM0nj', '4AoQVhME8Ko6LNm4lV2wwQ', '7hNYvX0qAKrxtVr1jGDmvR', '0EH7sgeiFqDa3eS7ieW2zs', '2nNaw1QUcqiEX6pBFxcpp3', '1bHBYJjUYYbUnwKYCFxV1F', '1OBOW5jFnqpieVQFsxu2P9', '2QY6SJXVnBFaqxOZhC1Fuu', '5IUP91X8fKfJnWQgCHT9dN', '5sqPE9h98DkO5ms20NUiUg', '0WdbnNKO0Jt4BZACSDQh44', '5uaIbU3oHHcSOK6WFNK5nj', '6lfSsCL894Qw15xbt7cSUy', '5N8rlaknKdZKyXCZKl3rQK', '0ANM7OVho2pqsFguo832qb', '6WediUhXDfm8FR3wlM0r3G', '3a1U2CISgp2TtAxgJAJKBF', '5djZm1zFGcJUSUqbBjrAZH', '6VbmeIWTbNHM5uqoW7GTE4', '2iXVckhPy7tP0wV9DvlrjZ', '1UV1ej70vDBIdPUEJ40ZG1', '48pyUxg9RYuwie5M9R7qRn', '5ckJAMv3Ixm6orTgfkmtbf', '2q0V50aNlI1RQXJyE5HDgD', '6FAYpZ4jve8vpvTwUvjK6H', '7s0qlp1ibUxVXLsOM0YWia', '1sAiw411pa8rVZv7ZTwbh4', '21Af1fetSINZpmAS3si8DW', '1vSXwYeKnzsVvekSpqVabx', '4tBMbRwLJa5BjwJ6FrBlks', '71s7tZo8OGlN3VXyURWLUr', '4QyX8CBSjcoq4iMZuvifyF', '51t7DiGRXmCBUCq5pd6iFU', '5VAkPCJTE6tbyReo9J4IQj', '0hgTkEDY9oIG5DPKN39KHP', '5PUXKVVVQ74C3gl5vKy9Li', '75DRLUnnltzSyuTJ7onxmW', '7tbzfR8ZvZzJEzy6v0d6el', '0F7SLEIzDQFAMYrC3hDrQg', '3F2BSn4ayglzMwquBRHZq6', '3xMHXmedL5Rvfxmiar9Ryv', '5XsoDbDt98b0FkFLOhsJuS', '3APdIdF8H0jsxSuGOqXedS', '2EvGNKagKtvFeZMLjOfgDP', '7gl8XJ8EmiObfSFppTATt6', '1J9vyEntJ79CppvgUxJs75', '2MvCNH9ua0CeOgUQfZf56z', '0XwRlvv3KlOu4HWlOH34XG', '0FDz52AydSbKmGO3k6EMiS', '2nP1wLRh85mo5Wdj4RQldp', '6XjJXPP3UiGtAQpYkD01c0', '4St20qfnH98z2CEY7Up5yn', '7GE3LwWzboPaTN0TlDcPs1', '1ErMeReQpwGuroEk5zekr3']\n"
          ]
        }
      ],
      "source": [
        "def getTrackIDs(user, playlist_id):\n",
        "    track_ids = []\n",
        "    album = sp.user_playlist(user, playlist_id)\n",
        "    for item in album['tracks']['items']:\n",
        "        track = item['track']\n",
        "        track_ids.append(track['id'])\n",
        "    return track_ids\n",
        "#Give this playlist a listen: Energetic Bollywood Songs https://open.spotify.com/playlist/3mSm688yR6UeaAJNf93Ydr?si=r6E73UP2Q9qZunr6_CGpdw&pi=wFphAl5fQsqmw\n",
        "# Call function correctly (outside!)\n",
        "track_ids = getTrackIDs('spotify', \"3mSm688yR6UeaAJNf93Ydr\")\n",
        "print(len(track_ids))\n",
        "print(track_ids)"
      ]
    },
    {
      "cell_type": "code",
      "execution_count": 13,
      "metadata": {
        "id": "oM9MwXzkadb7"
      },
      "outputs": [],
      "source": [
        "def getPlaylistFeatures(id):\n",
        "  track_info = sp.track(id)\n",
        "\n",
        "  #Track Info\n",
        "  name = track_info['name']\n",
        "  album = track_info[ 'album']['name']\n",
        "  artist = track_info[ 'album']['artists'][0][ 'name']\n",
        "  release_date = track_info['album']['release_date']\n",
        "  length = track_info[ 'duration_ms']\n",
        "  popularity = track_info['popularity']\n",
        "\n",
        "  track_data =[name, album, artist, release_date, length, popularity]\n",
        "\n",
        "  return track_data"
      ]
    },
    {
      "cell_type": "code",
      "execution_count": 14,
      "metadata": {
        "colab": {
          "base_uri": "https://localhost:8080/",
          "height": 206
        },
        "id": "Kfk0TL7LSN2G",
        "outputId": "c2b79262-c0a7-495d-a1f3-072beff79609"
      },
      "outputs": [
        {
          "data": {
            "text/html": [
              "<div>\n",
              "<style scoped>\n",
              "    .dataframe tbody tr th:only-of-type {\n",
              "        vertical-align: middle;\n",
              "    }\n",
              "\n",
              "    .dataframe tbody tr th {\n",
              "        vertical-align: top;\n",
              "    }\n",
              "\n",
              "    .dataframe thead th {\n",
              "        text-align: right;\n",
              "    }\n",
              "</style>\n",
              "<table border=\"1\" class=\"dataframe\">\n",
              "  <thead>\n",
              "    <tr style=\"text-align: right;\">\n",
              "      <th></th>\n",
              "      <th>name</th>\n",
              "      <th>album</th>\n",
              "      <th>artist</th>\n",
              "      <th>release_date</th>\n",
              "      <th>length</th>\n",
              "      <th>popularity</th>\n",
              "    </tr>\n",
              "  </thead>\n",
              "  <tbody>\n",
              "    <tr>\n",
              "      <th>0</th>\n",
              "      <td>Desi Girl (From \"Dostana\")</td>\n",
              "      <td>Best of Me Vishal Shekhar</td>\n",
              "      <td>Vishal-Shekhar</td>\n",
              "      <td>2013-04-22</td>\n",
              "      <td>306986</td>\n",
              "      <td>46</td>\n",
              "    </tr>\n",
              "    <tr>\n",
              "      <th>1</th>\n",
              "      <td>Tu Meri (From \"Bang Bang\")</td>\n",
              "      <td>Tu Meri (From \"Bang Bang\")</td>\n",
              "      <td>Vishal-Shekhar</td>\n",
              "      <td>2014-08-24</td>\n",
              "      <td>257089</td>\n",
              "      <td>0</td>\n",
              "    </tr>\n",
              "    <tr>\n",
              "      <th>2</th>\n",
              "      <td>Saturday Saturday</td>\n",
              "      <td>Saturday Saturday</td>\n",
              "      <td>Shaarib Toshi</td>\n",
              "      <td>2014-06-19</td>\n",
              "      <td>210799</td>\n",
              "      <td>55</td>\n",
              "    </tr>\n",
              "    <tr>\n",
              "      <th>3</th>\n",
              "      <td>Kar Gayi Chull (From \"Kapoor &amp; Sons (Since 192...</td>\n",
              "      <td>Best of 2016</td>\n",
              "      <td>Various Artists</td>\n",
              "      <td>2016-12-16</td>\n",
              "      <td>187710</td>\n",
              "      <td>38</td>\n",
              "    </tr>\n",
              "    <tr>\n",
              "      <th>4</th>\n",
              "      <td>Tukur Tukur (From \"Dilwale\")</td>\n",
              "      <td>Best of 2016</td>\n",
              "      <td>Various Artists</td>\n",
              "      <td>2016-12-16</td>\n",
              "      <td>247458</td>\n",
              "      <td>36</td>\n",
              "    </tr>\n",
              "  </tbody>\n",
              "</table>\n",
              "</div>"
            ],
            "text/plain": [
              "                                                name  \\\n",
              "0                         Desi Girl (From \"Dostana\")   \n",
              "1                         Tu Meri (From \"Bang Bang\")   \n",
              "2                                  Saturday Saturday   \n",
              "3  Kar Gayi Chull (From \"Kapoor & Sons (Since 192...   \n",
              "4                       Tukur Tukur (From \"Dilwale\")   \n",
              "\n",
              "                        album           artist release_date  length  \\\n",
              "0   Best of Me Vishal Shekhar   Vishal-Shekhar   2013-04-22  306986   \n",
              "1  Tu Meri (From \"Bang Bang\")   Vishal-Shekhar   2014-08-24  257089   \n",
              "2           Saturday Saturday    Shaarib Toshi   2014-06-19  210799   \n",
              "3                Best of 2016  Various Artists   2016-12-16  187710   \n",
              "4                Best of 2016  Various Artists   2016-12-16  247458   \n",
              "\n",
              "   popularity  \n",
              "0          46  \n",
              "1           0  \n",
              "2          55  \n",
              "3          38  \n",
              "4          36  "
            ]
          },
          "execution_count": 14,
          "metadata": {},
          "output_type": "execute_result"
        }
      ],
      "source": [
        "\n",
        "track_list = []\n",
        "for i in range(len(track_ids)):\n",
        "    time.sleep(.3)\n",
        "    track_data = getPlaylistFeatures(track_ids[i])\n",
        "    track_list.append(track_data)\n",
        "\n",
        "naija_playlist = pd.DataFrame(track_list, columns=['name','album','artist','release_date','length','popularity'])\n",
        "naija_playlist.to_csv(\"naija_playlist.csv\", index=False)\n",
        "naija_playlist.head()\n",
        "\n"
      ]
    },
    {
      "cell_type": "code",
      "execution_count": 15,
      "metadata": {
        "colab": {
          "base_uri": "https://localhost:8080/",
          "height": 206
        },
        "id": "eqqZebcYP-CI",
        "outputId": "f963b631-ab44-47a9-91d2-efe7a60e21a3"
      },
      "outputs": [
        {
          "data": {
            "text/html": [
              "<div>\n",
              "<style scoped>\n",
              "    .dataframe tbody tr th:only-of-type {\n",
              "        vertical-align: middle;\n",
              "    }\n",
              "\n",
              "    .dataframe tbody tr th {\n",
              "        vertical-align: top;\n",
              "    }\n",
              "\n",
              "    .dataframe thead th {\n",
              "        text-align: right;\n",
              "    }\n",
              "</style>\n",
              "<table border=\"1\" class=\"dataframe\">\n",
              "  <thead>\n",
              "    <tr style=\"text-align: right;\">\n",
              "      <th></th>\n",
              "      <th>name</th>\n",
              "      <th>album</th>\n",
              "      <th>artist</th>\n",
              "      <th>release_date</th>\n",
              "      <th>length</th>\n",
              "      <th>popularity</th>\n",
              "    </tr>\n",
              "  </thead>\n",
              "  <tbody>\n",
              "    <tr>\n",
              "      <th>46</th>\n",
              "      <td>Heeriye (feat. Arijit Singh)</td>\n",
              "      <td>Heeriye (feat. Arijit Singh)</td>\n",
              "      <td>Jasleen Royal</td>\n",
              "      <td>2023-07-25</td>\n",
              "      <td>194857</td>\n",
              "      <td>75</td>\n",
              "    </tr>\n",
              "    <tr>\n",
              "      <th>14</th>\n",
              "      <td>Chammak Challo</td>\n",
              "      <td>Ra-One</td>\n",
              "      <td>Vishal-Shekhar</td>\n",
              "      <td>2011-09-16</td>\n",
              "      <td>227091</td>\n",
              "      <td>74</td>\n",
              "    </tr>\n",
              "    <tr>\n",
              "      <th>60</th>\n",
              "      <td>Uyi Amma - From \"Azaad\"</td>\n",
              "      <td>Uyi Amma (From \"Azaad\")</td>\n",
              "      <td>Amit Trivedi</td>\n",
              "      <td>2025-01-04</td>\n",
              "      <td>253833</td>\n",
              "      <td>73</td>\n",
              "    </tr>\n",
              "    <tr>\n",
              "      <th>56</th>\n",
              "      <td>Zaalima</td>\n",
              "      <td>Raees (Original Motion Picture Soundtrack)</td>\n",
              "      <td>Various Artists</td>\n",
              "      <td>2017-01-24</td>\n",
              "      <td>299333</td>\n",
              "      <td>71</td>\n",
              "    </tr>\n",
              "    <tr>\n",
              "      <th>57</th>\n",
              "      <td>Guzarish</td>\n",
              "      <td>Ghajini</td>\n",
              "      <td>A.R. Rahman</td>\n",
              "      <td>2008-11-25</td>\n",
              "      <td>327029</td>\n",
              "      <td>70</td>\n",
              "    </tr>\n",
              "  </tbody>\n",
              "</table>\n",
              "</div>"
            ],
            "text/plain": [
              "                            name                                       album  \\\n",
              "46  Heeriye (feat. Arijit Singh)                Heeriye (feat. Arijit Singh)   \n",
              "14                Chammak Challo                                      Ra-One   \n",
              "60       Uyi Amma - From \"Azaad\"                     Uyi Amma (From \"Azaad\")   \n",
              "56                       Zaalima  Raees (Original Motion Picture Soundtrack)   \n",
              "57                      Guzarish                                     Ghajini   \n",
              "\n",
              "             artist release_date  length  popularity  \n",
              "46    Jasleen Royal   2023-07-25  194857          75  \n",
              "14   Vishal-Shekhar   2011-09-16  227091          74  \n",
              "60     Amit Trivedi   2025-01-04  253833          73  \n",
              "56  Various Artists   2017-01-24  299333          71  \n",
              "57      A.R. Rahman   2008-11-25  327029          70  "
            ]
          },
          "execution_count": 15,
          "metadata": {},
          "output_type": "execute_result"
        }
      ],
      "source": [
        "\n",
        "high_pop = naija_playlist.loc[naija_playlist['popularity'] >= 60].sort_values(by=['popularity'], ascending=False)\n",
        "\n",
        "\n",
        "high_pop.head()\n",
        "\n",
        "\n",
        "\n",
        "\n",
        "\n"
      ]
    },
    {
      "cell_type": "code",
      "execution_count": 16,
      "metadata": {
        "colab": {
          "base_uri": "https://localhost:8080/",
          "height": 206
        },
        "id": "XfB3-tZXXz7Z",
        "outputId": "44cb2672-ed74-4be5-ad8e-0f84e4fa0cf8"
      },
      "outputs": [
        {
          "data": {
            "text/html": [
              "<div>\n",
              "<style scoped>\n",
              "    .dataframe tbody tr th:only-of-type {\n",
              "        vertical-align: middle;\n",
              "    }\n",
              "\n",
              "    .dataframe tbody tr th {\n",
              "        vertical-align: top;\n",
              "    }\n",
              "\n",
              "    .dataframe thead th {\n",
              "        text-align: right;\n",
              "    }\n",
              "</style>\n",
              "<table border=\"1\" class=\"dataframe\">\n",
              "  <thead>\n",
              "    <tr style=\"text-align: right;\">\n",
              "      <th></th>\n",
              "      <th>name</th>\n",
              "      <th>album</th>\n",
              "      <th>artist</th>\n",
              "      <th>release_date</th>\n",
              "      <th>length</th>\n",
              "      <th>popularity</th>\n",
              "    </tr>\n",
              "  </thead>\n",
              "  <tbody>\n",
              "    <tr>\n",
              "      <th>33</th>\n",
              "      <td>Shubhaarambh</td>\n",
              "      <td>Celebrate Kai Po Che (Original Motion Picture ...</td>\n",
              "      <td>Amit Trivedi</td>\n",
              "      <td>2013-07-10</td>\n",
              "      <td>232533</td>\n",
              "      <td>60</td>\n",
              "    </tr>\n",
              "    <tr>\n",
              "      <th>48</th>\n",
              "      <td>Liggi</td>\n",
              "      <td>Dev</td>\n",
              "      <td>Ritviz</td>\n",
              "      <td>2021-07-09</td>\n",
              "      <td>181176</td>\n",
              "      <td>60</td>\n",
              "    </tr>\n",
              "    <tr>\n",
              "      <th>55</th>\n",
              "      <td>Twist</td>\n",
              "      <td>Love Aaj Kal (Original Motion Picture Soundtrack)</td>\n",
              "      <td>Pritam</td>\n",
              "      <td>2009-07-31</td>\n",
              "      <td>299440</td>\n",
              "      <td>60</td>\n",
              "    </tr>\n",
              "    <tr>\n",
              "      <th>18</th>\n",
              "      <td>Kamli</td>\n",
              "      <td>Dhoom:3</td>\n",
              "      <td>Pritam</td>\n",
              "      <td>2013-11-14</td>\n",
              "      <td>235102</td>\n",
              "      <td>61</td>\n",
              "    </tr>\n",
              "    <tr>\n",
              "      <th>62</th>\n",
              "      <td>Pungi</td>\n",
              "      <td>Agent Vinod</td>\n",
              "      <td>Pritam</td>\n",
              "      <td>2012-02-24</td>\n",
              "      <td>247826</td>\n",
              "      <td>62</td>\n",
              "    </tr>\n",
              "  </tbody>\n",
              "</table>\n",
              "</div>"
            ],
            "text/plain": [
              "            name                                              album  \\\n",
              "33  Shubhaarambh  Celebrate Kai Po Che (Original Motion Picture ...   \n",
              "48         Liggi                                                Dev   \n",
              "55         Twist  Love Aaj Kal (Original Motion Picture Soundtrack)   \n",
              "18         Kamli                                            Dhoom:3   \n",
              "62         Pungi                                        Agent Vinod   \n",
              "\n",
              "          artist release_date  length  popularity  \n",
              "33  Amit Trivedi   2013-07-10  232533          60  \n",
              "48        Ritviz   2021-07-09  181176          60  \n",
              "55        Pritam   2009-07-31  299440          60  \n",
              "18        Pritam   2013-11-14  235102          61  \n",
              "62        Pritam   2012-02-24  247826          62  "
            ]
          },
          "execution_count": 16,
          "metadata": {},
          "output_type": "execute_result"
        }
      ],
      "source": [
        "\n",
        "\n",
        "low_pop = naija_playlist.loc[naija_playlist['popularity'] >= 60].sort_values(by=['popularity'],ascending = True)\n",
        "\n",
        "low_pop.head()"
      ]
    },
    {
      "cell_type": "code",
      "execution_count": 17,
      "metadata": {
        "colab": {
          "base_uri": "https://localhost:8080/"
        },
        "id": "DTXtaAw2Y4wv",
        "outputId": "77e63149-7da0-4dd5-b404-0cc4a6512243"
      },
      "outputs": [
        {
          "data": {
            "text/plain": [
              "Index(['name', 'album', 'artist', 'release_date', 'length', 'popularity'], dtype='object')"
            ]
          },
          "execution_count": 17,
          "metadata": {},
          "output_type": "execute_result"
        }
      ],
      "source": [
        "low_pop.columns"
      ]
    },
    {
      "cell_type": "code",
      "execution_count": 18,
      "metadata": {
        "colab": {
          "base_uri": "https://localhost:8080/",
          "height": 542
        },
        "id": "ABN1xQkRYntm",
        "outputId": "a13d3384-7b78-4c0a-bdce-c006528e99dc"
      },
      "outputs": [
        {
          "data": {
            "application/vnd.plotly.v1+json": {
              "config": {
                "plotlyServerURL": "https://plot.ly"
              },
              "data": [
                {
                  "hovertemplate": "<b>%{hovertext}</b><br><br>artist=Vishal-Shekhar<br>length=%{x}<br>popularity=%{y}<extra></extra>",
                  "hovertext": [
                    "Desi Girl (From \"Dostana\")",
                    "Tu Meri (From \"Bang Bang\")",
                    "One Two Three Four (Get On The Dance Floor)",
                    "Chammak Challo",
                    "Ghungroo (From \"War\")",
                    "Jhoome Jo Pathaan",
                    "Ude Dil Befikre"
                  ],
                  "legendgroup": "Vishal-Shekhar",
                  "marker": {
                    "color": "#636efa",
                    "symbol": "circle"
                  },
                  "mode": "markers",
                  "name": "Vishal-Shekhar",
                  "orientation": "v",
                  "showlegend": true,
                  "type": "scatter",
                  "x": [
                    306986,
                    257089,
                    228323,
                    227091,
                    302935,
                    208164,
                    231326
                  ],
                  "xaxis": "x",
                  "y": [
                    46,
                    0,
                    65,
                    74,
                    66,
                    64,
                    59
                  ],
                  "yaxis": "y"
                },
                {
                  "hovertemplate": "<b>%{hovertext}</b><br><br>artist=Shaarib Toshi<br>length=%{x}<br>popularity=%{y}<extra></extra>",
                  "hovertext": [
                    "Saturday Saturday"
                  ],
                  "legendgroup": "Shaarib Toshi",
                  "marker": {
                    "color": "#EF553B",
                    "symbol": "circle"
                  },
                  "mode": "markers",
                  "name": "Shaarib Toshi",
                  "orientation": "v",
                  "showlegend": true,
                  "type": "scatter",
                  "x": [
                    210799
                  ],
                  "xaxis": "x",
                  "y": [
                    55
                  ],
                  "yaxis": "y"
                },
                {
                  "hovertemplate": "<b>%{hovertext}</b><br><br>artist=Various Artists<br>length=%{x}<br>popularity=%{y}<extra></extra>",
                  "hovertext": [
                    "Kar Gayi Chull (From \"Kapoor & Sons (Since 1921)\")",
                    "Tukur Tukur (From \"Dilwale\")",
                    "",
                    "Song: Dola Re",
                    "",
                    "What Jhumka ? (From \"Rocky Aur Rani Kii Prem Kahaani\")",
                    "Tere Vaaste (From \"Zara Hatke Zara Bachke\")",
                    "Zaalima"
                  ],
                  "legendgroup": "Various Artists",
                  "marker": {
                    "color": "#00cc96",
                    "symbol": "circle"
                  },
                  "mode": "markers",
                  "name": "Various Artists",
                  "orientation": "v",
                  "showlegend": true,
                  "type": "scatter",
                  "x": [
                    187710,
                    247458,
                    0,
                    303386,
                    0,
                    213611,
                    189136,
                    299333
                  ],
                  "xaxis": "x",
                  "y": [
                    38,
                    36,
                    0,
                    43,
                    0,
                    49,
                    56,
                    71
                  ],
                  "yaxis": "y"
                },
                {
                  "hovertemplate": "<b>%{hovertext}</b><br><br>artist=Amaal Mallik<br>length=%{x}<br>popularity=%{y}<extra></extra>",
                  "hovertext": [
                    "Let's Nacho",
                    "Sooraj Dooba Hain",
                    "Chittiyaan Kalaiyaan"
                  ],
                  "legendgroup": "Amaal Mallik",
                  "marker": {
                    "color": "#ab63fa",
                    "symbol": "circle"
                  },
                  "mode": "markers",
                  "name": "Amaal Mallik",
                  "orientation": "v",
                  "showlegend": true,
                  "type": "scatter",
                  "x": [
                    215075,
                    264854,
                    246100
                  ],
                  "xaxis": "x",
                  "y": [
                    54,
                    67,
                    65
                  ],
                  "yaxis": "y"
                },
                {
                  "hovertemplate": "<b>%{hovertext}</b><br><br>artist=Zack Knight<br>length=%{x}<br>popularity=%{y}<extra></extra>",
                  "hovertext": [
                    "Bom Diggy"
                  ],
                  "legendgroup": "Zack Knight",
                  "marker": {
                    "color": "#FFA15A",
                    "symbol": "circle"
                  },
                  "mode": "markers",
                  "name": "Zack Knight",
                  "orientation": "v",
                  "showlegend": true,
                  "type": "scatter",
                  "x": [
                    207692
                  ],
                  "xaxis": "x",
                  "y": [
                    49
                  ],
                  "yaxis": "y"
                },
                {
                  "hovertemplate": "<b>%{hovertext}</b><br><br>artist=Neha Kakkar<br>length=%{x}<br>popularity=%{y}<extra></extra>",
                  "hovertext": [
                    "Aankh Marey (From \"Simmba\")"
                  ],
                  "legendgroup": "Neha Kakkar",
                  "marker": {
                    "color": "#19d3f3",
                    "symbol": "circle"
                  },
                  "mode": "markers",
                  "name": "Neha Kakkar",
                  "orientation": "v",
                  "showlegend": true,
                  "type": "scatter",
                  "x": [
                    212741
                  ],
                  "xaxis": "x",
                  "y": [
                    59
                  ],
                  "yaxis": "y"
                },
                {
                  "hovertemplate": "<b>%{hovertext}</b><br><br>artist=Pritam<br>length=%{x}<br>popularity=%{y}<extra></extra>",
                  "hovertext": [
                    "Balam Pichkari",
                    "Badtameez Dil",
                    "Marjaani",
                    "Dhoom Machale Dhoom",
                    "Kamli",
                    "Dhoom Again",
                    "Tu Hi Junoon",
                    "Subha Hone Na De",
                    "Mauja Hi Mauja",
                    "Make Some Noise For The Desi Boyz",
                    "Tum Hi Ho Bandhu",
                    "Lat Lag Gayee",
                    "First Class (Kalank)",
                    "Twist",
                    "Crazy Kiya Re (From \"Dhoom:2\")",
                    "Pungi",
                    "Khwab Dekhe Sexy Lady"
                  ],
                  "legendgroup": "Pritam",
                  "marker": {
                    "color": "#FF6692",
                    "symbol": "circle"
                  },
                  "mode": "markers",
                  "name": "Pritam",
                  "orientation": "v",
                  "showlegend": true,
                  "type": "scatter",
                  "x": [
                    288902,
                    252760,
                    323941,
                    235624,
                    235102,
                    302706,
                    303360,
                    288696,
                    245099,
                    244067,
                    283693,
                    280369,
                    276959,
                    299440,
                    294504,
                    247826,
                    279356
                  ],
                  "xaxis": "x",
                  "y": [
                    66,
                    68,
                    56,
                    49,
                    61,
                    51,
                    47,
                    69,
                    65,
                    68,
                    0,
                    68,
                    51,
                    60,
                    49,
                    62,
                    66
                  ],
                  "yaxis": "y"
                },
                {
                  "hovertemplate": "<b>%{hovertext}</b><br><br>artist=Tony Kakkar<br>length=%{x}<br>popularity=%{y}<extra></extra>",
                  "hovertext": [
                    "Coca Cola (From \"Luka Chuppi\")"
                  ],
                  "legendgroup": "Tony Kakkar",
                  "marker": {
                    "color": "#B6E880",
                    "symbol": "circle"
                  },
                  "mode": "markers",
                  "name": "Tony Kakkar",
                  "orientation": "v",
                  "showlegend": true,
                  "type": "scatter",
                  "x": [
                    179225
                  ],
                  "xaxis": "x",
                  "y": [
                    63
                  ],
                  "yaxis": "y"
                },
                {
                  "hovertemplate": "<b>%{hovertext}</b><br><br>artist=Himesh Reshammiya<br>length=%{x}<br>popularity=%{y}<extra></extra>",
                  "hovertext": [
                    "Hookah Bar"
                  ],
                  "legendgroup": "Himesh Reshammiya",
                  "marker": {
                    "color": "#FF97FF",
                    "symbol": "circle"
                  },
                  "mode": "markers",
                  "name": "Himesh Reshammiya",
                  "orientation": "v",
                  "showlegend": true,
                  "type": "scatter",
                  "x": [
                    254351
                  ],
                  "xaxis": "x",
                  "y": [
                    69
                  ],
                  "yaxis": "y"
                },
                {
                  "hovertemplate": "<b>%{hovertext}</b><br><br>artist=Shankar-Ehsaan-Loy<br>length=%{x}<br>popularity=%{y}<extra></extra>",
                  "hovertext": [
                    "Gallan Goodiyaan"
                  ],
                  "legendgroup": "Shankar-Ehsaan-Loy",
                  "marker": {
                    "color": "#FECB52",
                    "symbol": "circle"
                  },
                  "mode": "markers",
                  "name": "Shankar-Ehsaan-Loy",
                  "orientation": "v",
                  "showlegend": true,
                  "type": "scatter",
                  "x": [
                    296500
                  ],
                  "xaxis": "x",
                  "y": [
                    65
                  ],
                  "yaxis": "y"
                },
                {
                  "hovertemplate": "<b>%{hovertext}</b><br><br>artist=Yo Yo Honey Singh<br>length=%{x}<br>popularity=%{y}<extra></extra>",
                  "hovertext": [
                    "Party All Night (From \"Boss\")"
                  ],
                  "legendgroup": "Yo Yo Honey Singh",
                  "marker": {
                    "color": "#636efa",
                    "symbol": "circle"
                  },
                  "mode": "markers",
                  "name": "Yo Yo Honey Singh",
                  "orientation": "v",
                  "showlegend": true,
                  "type": "scatter",
                  "x": [
                    282792
                  ],
                  "xaxis": "x",
                  "y": [
                    65
                  ],
                  "yaxis": "y"
                },
                {
                  "hovertemplate": "<b>%{hovertext}</b><br><br>artist=Tanishk Bagchi<br>length=%{x}<br>popularity=%{y}<extra></extra>",
                  "hovertext": [
                    "Tamma Tamma Again"
                  ],
                  "legendgroup": "Tanishk Bagchi",
                  "marker": {
                    "color": "#EF553B",
                    "symbol": "circle"
                  },
                  "mode": "markers",
                  "name": "Tanishk Bagchi",
                  "orientation": "v",
                  "showlegend": true,
                  "type": "scatter",
                  "x": [
                    199264
                  ],
                  "xaxis": "x",
                  "y": [
                    59
                  ],
                  "yaxis": "y"
                },
                {
                  "hovertemplate": "<b>%{hovertext}</b><br><br>artist=Vishal Dadlani<br>length=%{x}<br>popularity=%{y}<extra></extra>",
                  "hovertext": [
                    "Jai Jai Shivshankar (From \"War\")"
                  ],
                  "legendgroup": "Vishal Dadlani",
                  "marker": {
                    "color": "#00cc96",
                    "symbol": "circle"
                  },
                  "mode": "markers",
                  "name": "Vishal Dadlani",
                  "orientation": "v",
                  "showlegend": true,
                  "type": "scatter",
                  "x": [
                    230557
                  ],
                  "xaxis": "x",
                  "y": [
                    55
                  ],
                  "yaxis": "y"
                },
                {
                  "hovertemplate": "<b>%{hovertext}</b><br><br>artist=Badshah<br>length=%{x}<br>popularity=%{y}<extra></extra>",
                  "hovertext": [
                    "Har Ghoont Mein Swag"
                  ],
                  "legendgroup": "Badshah",
                  "marker": {
                    "color": "#ab63fa",
                    "symbol": "circle"
                  },
                  "mode": "markers",
                  "name": "Badshah",
                  "orientation": "v",
                  "showlegend": true,
                  "type": "scatter",
                  "x": [
                    143572
                  ],
                  "xaxis": "x",
                  "y": [
                    45
                  ],
                  "yaxis": "y"
                },
                {
                  "hovertemplate": "<b>%{hovertext}</b><br><br>artist=Ravindra Jain<br>length=%{x}<br>popularity=%{y}<extra></extra>",
                  "hovertext": [
                    "Gori Tera Gaon Bada Pyara"
                  ],
                  "legendgroup": "Ravindra Jain",
                  "marker": {
                    "color": "#FFA15A",
                    "symbol": "circle"
                  },
                  "mode": "markers",
                  "name": "Ravindra Jain",
                  "orientation": "v",
                  "showlegend": true,
                  "type": "scatter",
                  "x": [
                    307560
                  ],
                  "xaxis": "x",
                  "y": [
                    30
                  ],
                  "yaxis": "y"
                },
                {
                  "hovertemplate": "<b>%{hovertext}</b><br><br>artist=Tulsi Kumar<br>length=%{x}<br>popularity=%{y}<extra></extra>",
                  "hovertext": [
                    "O Saki Saki (From \"Batla House\")"
                  ],
                  "legendgroup": "Tulsi Kumar",
                  "marker": {
                    "color": "#19d3f3",
                    "symbol": "circle"
                  },
                  "mode": "markers",
                  "name": "Tulsi Kumar",
                  "orientation": "v",
                  "showlegend": true,
                  "type": "scatter",
                  "x": [
                    191089
                  ],
                  "xaxis": "x",
                  "y": [
                    51
                  ],
                  "yaxis": "y"
                },
                {
                  "hovertemplate": "<b>%{hovertext}</b><br><br>artist=Shirish Kunder<br>length=%{x}<br>popularity=%{y}<extra></extra>",
                  "hovertext": [
                    "Sheila Ki Jawani"
                  ],
                  "legendgroup": "Shirish Kunder",
                  "marker": {
                    "color": "#FF6692",
                    "symbol": "circle"
                  },
                  "mode": "markers",
                  "name": "Shirish Kunder",
                  "orientation": "v",
                  "showlegend": true,
                  "type": "scatter",
                  "x": [
                    281707
                  ],
                  "xaxis": "x",
                  "y": [
                    68
                  ],
                  "yaxis": "y"
                },
                {
                  "hovertemplate": "<b>%{hovertext}</b><br><br>artist=Amit Trivedi<br>length=%{x}<br>popularity=%{y}<extra></extra>",
                  "hovertext": [
                    "Shubhaarambh",
                    "Uyi Amma - From \"Azaad\""
                  ],
                  "legendgroup": "Amit Trivedi",
                  "marker": {
                    "color": "#B6E880",
                    "symbol": "circle"
                  },
                  "mode": "markers",
                  "name": "Amit Trivedi",
                  "orientation": "v",
                  "showlegend": true,
                  "type": "scatter",
                  "x": [
                    232533,
                    253833
                  ],
                  "xaxis": "x",
                  "y": [
                    60,
                    73
                  ],
                  "yaxis": "y"
                },
                {
                  "hovertemplate": "<b>%{hovertext}</b><br><br>artist=Sachin-Jigar<br>length=%{x}<br>popularity=%{y}<extra></extra>",
                  "hovertext": [
                    "Odhani (From \"Made in China\")",
                    "Slowly Slowly"
                  ],
                  "legendgroup": "Sachin-Jigar",
                  "marker": {
                    "color": "#FF97FF",
                    "symbol": "circle"
                  },
                  "mode": "markers",
                  "name": "Sachin-Jigar",
                  "orientation": "v",
                  "showlegend": true,
                  "type": "scatter",
                  "x": [
                    195397,
                    200066
                  ],
                  "xaxis": "x",
                  "y": [
                    55,
                    47
                  ],
                  "yaxis": "y"
                },
                {
                  "hovertemplate": "<b>%{hovertext}</b><br><br>artist=Chandan Shetty<br>length=%{x}<br>popularity=%{y}<extra></extra>",
                  "hovertext": [
                    "Party Freak"
                  ],
                  "legendgroup": "Chandan Shetty",
                  "marker": {
                    "color": "#FECB52",
                    "symbol": "circle"
                  },
                  "mode": "markers",
                  "name": "Chandan Shetty",
                  "orientation": "v",
                  "showlegend": true,
                  "type": "scatter",
                  "x": [
                    240017
                  ],
                  "xaxis": "x",
                  "y": [
                    52
                  ],
                  "yaxis": "y"
                },
                {
                  "hovertemplate": "<b>%{hovertext}</b><br><br>artist=A.R. Rahman<br>length=%{x}<br>popularity=%{y}<extra></extra>",
                  "hovertext": [
                    "Jiya Re",
                    "Kabhi Kabhi Aditi",
                    "Guzarish"
                  ],
                  "legendgroup": "A.R. Rahman",
                  "marker": {
                    "color": "#636efa",
                    "symbol": "circle"
                  },
                  "mode": "markers",
                  "name": "A.R. Rahman",
                  "orientation": "v",
                  "showlegend": true,
                  "type": "scatter",
                  "x": [
                    319216,
                    218836,
                    327029
                  ],
                  "xaxis": "x",
                  "y": [
                    59,
                    69,
                    70
                  ],
                  "yaxis": "y"
                },
                {
                  "hovertemplate": "<b>%{hovertext}</b><br><br>artist=Ajay-Atul<br>length=%{x}<br>popularity=%{y}<extra></extra>",
                  "hovertext": [
                    "Chikni Chameli"
                  ],
                  "legendgroup": "Ajay-Atul",
                  "marker": {
                    "color": "#EF553B",
                    "symbol": "circle"
                  },
                  "mode": "markers",
                  "name": "Ajay-Atul",
                  "orientation": "v",
                  "showlegend": true,
                  "type": "scatter",
                  "x": [
                    301586
                  ],
                  "xaxis": "x",
                  "y": [
                    68
                  ],
                  "yaxis": "y"
                },
                {
                  "hovertemplate": "<b>%{hovertext}</b><br><br>artist=Sajid-Wajid<br>length=%{x}<br>popularity=%{y}<extra></extra>",
                  "hovertext": [
                    "Soni De Nakhre"
                  ],
                  "legendgroup": "Sajid-Wajid",
                  "marker": {
                    "color": "#00cc96",
                    "symbol": "circle"
                  },
                  "mode": "markers",
                  "name": "Sajid-Wajid",
                  "orientation": "v",
                  "showlegend": true,
                  "type": "scatter",
                  "x": [
                    261013
                  ],
                  "xaxis": "x",
                  "y": [
                    69
                  ],
                  "yaxis": "y"
                },
                {
                  "hovertemplate": "<b>%{hovertext}</b><br><br>artist=Arijit Singh<br>length=%{x}<br>popularity=%{y}<extra></extra>",
                  "hovertext": [
                    "Main Tera Boyfriend (From \"Raabta\")"
                  ],
                  "legendgroup": "Arijit Singh",
                  "marker": {
                    "color": "#ab63fa",
                    "symbol": "circle"
                  },
                  "mode": "markers",
                  "name": "Arijit Singh",
                  "orientation": "v",
                  "showlegend": true,
                  "type": "scatter",
                  "x": [
                    276153
                  ],
                  "xaxis": "x",
                  "y": [
                    58
                  ],
                  "yaxis": "y"
                },
                {
                  "hovertemplate": "<b>%{hovertext}</b><br><br>artist=Jasleen Royal<br>length=%{x}<br>popularity=%{y}<extra></extra>",
                  "hovertext": [
                    "Heeriye (feat. Arijit Singh)"
                  ],
                  "legendgroup": "Jasleen Royal",
                  "marker": {
                    "color": "#FFA15A",
                    "symbol": "circle"
                  },
                  "mode": "markers",
                  "name": "Jasleen Royal",
                  "orientation": "v",
                  "showlegend": true,
                  "type": "scatter",
                  "x": [
                    194857
                  ],
                  "xaxis": "x",
                  "y": [
                    75
                  ],
                  "yaxis": "y"
                },
                {
                  "hovertemplate": "<b>%{hovertext}</b><br><br>artist=Ritviz<br>length=%{x}<br>popularity=%{y}<extra></extra>",
                  "hovertext": [
                    "Liggi"
                  ],
                  "legendgroup": "Ritviz",
                  "marker": {
                    "color": "#19d3f3",
                    "symbol": "circle"
                  },
                  "mode": "markers",
                  "name": "Ritviz",
                  "orientation": "v",
                  "showlegend": true,
                  "type": "scatter",
                  "x": [
                    181176
                  ],
                  "xaxis": "x",
                  "y": [
                    60
                  ],
                  "yaxis": "y"
                },
                {
                  "hovertemplate": "<b>%{hovertext}</b><br><br>artist=Kavita Seth<br>length=%{x}<br>popularity=%{y}<extra></extra>",
                  "hovertext": [
                    "Rangi Saari"
                  ],
                  "legendgroup": "Kavita Seth",
                  "marker": {
                    "color": "#FF6692",
                    "symbol": "circle"
                  },
                  "mode": "markers",
                  "name": "Kavita Seth",
                  "orientation": "v",
                  "showlegend": true,
                  "type": "scatter",
                  "x": [
                    214000
                  ],
                  "xaxis": "x",
                  "y": [
                    59
                  ],
                  "yaxis": "y"
                },
                {
                  "hovertemplate": "<b>%{hovertext}</b><br><br>artist=Anirudh Ravichander<br>length=%{x}<br>popularity=%{y}<extra></extra>",
                  "hovertext": [
                    "Chaleya"
                  ],
                  "legendgroup": "Anirudh Ravichander",
                  "marker": {
                    "color": "#B6E880",
                    "symbol": "circle"
                  },
                  "mode": "markers",
                  "name": "Anirudh Ravichander",
                  "orientation": "v",
                  "showlegend": true,
                  "type": "scatter",
                  "x": [
                    200373
                  ],
                  "xaxis": "x",
                  "y": [
                    68
                  ],
                  "yaxis": "y"
                },
                {
                  "hovertemplate": "<b>%{hovertext}</b><br><br>artist=Diljit Dosanjh<br>length=%{x}<br>popularity=%{y}<extra></extra>",
                  "hovertext": [
                    "Lover",
                    "Choli Ke Peeche (From \"Crew\")"
                  ],
                  "legendgroup": "Diljit Dosanjh",
                  "marker": {
                    "color": "#FF97FF",
                    "symbol": "circle"
                  },
                  "mode": "markers",
                  "name": "Diljit Dosanjh",
                  "orientation": "v",
                  "showlegend": true,
                  "type": "scatter",
                  "x": [
                    190000,
                    173400
                  ],
                  "xaxis": "x",
                  "y": [
                    68,
                    63
                  ],
                  "yaxis": "y"
                }
              ],
              "layout": {
                "legend": {
                  "title": {
                    "text": "artist"
                  },
                  "tracegroupgap": 0
                },
                "template": {
                  "data": {
                    "bar": [
                      {
                        "error_x": {
                          "color": "#2a3f5f"
                        },
                        "error_y": {
                          "color": "#2a3f5f"
                        },
                        "marker": {
                          "line": {
                            "color": "#E5ECF6",
                            "width": 0.5
                          },
                          "pattern": {
                            "fillmode": "overlay",
                            "size": 10,
                            "solidity": 0.2
                          }
                        },
                        "type": "bar"
                      }
                    ],
                    "barpolar": [
                      {
                        "marker": {
                          "line": {
                            "color": "#E5ECF6",
                            "width": 0.5
                          },
                          "pattern": {
                            "fillmode": "overlay",
                            "size": 10,
                            "solidity": 0.2
                          }
                        },
                        "type": "barpolar"
                      }
                    ],
                    "carpet": [
                      {
                        "aaxis": {
                          "endlinecolor": "#2a3f5f",
                          "gridcolor": "white",
                          "linecolor": "white",
                          "minorgridcolor": "white",
                          "startlinecolor": "#2a3f5f"
                        },
                        "baxis": {
                          "endlinecolor": "#2a3f5f",
                          "gridcolor": "white",
                          "linecolor": "white",
                          "minorgridcolor": "white",
                          "startlinecolor": "#2a3f5f"
                        },
                        "type": "carpet"
                      }
                    ],
                    "choropleth": [
                      {
                        "colorbar": {
                          "outlinewidth": 0,
                          "ticks": ""
                        },
                        "type": "choropleth"
                      }
                    ],
                    "contour": [
                      {
                        "colorbar": {
                          "outlinewidth": 0,
                          "ticks": ""
                        },
                        "colorscale": [
                          [
                            0,
                            "#0d0887"
                          ],
                          [
                            0.1111111111111111,
                            "#46039f"
                          ],
                          [
                            0.2222222222222222,
                            "#7201a8"
                          ],
                          [
                            0.3333333333333333,
                            "#9c179e"
                          ],
                          [
                            0.4444444444444444,
                            "#bd3786"
                          ],
                          [
                            0.5555555555555556,
                            "#d8576b"
                          ],
                          [
                            0.6666666666666666,
                            "#ed7953"
                          ],
                          [
                            0.7777777777777778,
                            "#fb9f3a"
                          ],
                          [
                            0.8888888888888888,
                            "#fdca26"
                          ],
                          [
                            1,
                            "#f0f921"
                          ]
                        ],
                        "type": "contour"
                      }
                    ],
                    "contourcarpet": [
                      {
                        "colorbar": {
                          "outlinewidth": 0,
                          "ticks": ""
                        },
                        "type": "contourcarpet"
                      }
                    ],
                    "heatmap": [
                      {
                        "colorbar": {
                          "outlinewidth": 0,
                          "ticks": ""
                        },
                        "colorscale": [
                          [
                            0,
                            "#0d0887"
                          ],
                          [
                            0.1111111111111111,
                            "#46039f"
                          ],
                          [
                            0.2222222222222222,
                            "#7201a8"
                          ],
                          [
                            0.3333333333333333,
                            "#9c179e"
                          ],
                          [
                            0.4444444444444444,
                            "#bd3786"
                          ],
                          [
                            0.5555555555555556,
                            "#d8576b"
                          ],
                          [
                            0.6666666666666666,
                            "#ed7953"
                          ],
                          [
                            0.7777777777777778,
                            "#fb9f3a"
                          ],
                          [
                            0.8888888888888888,
                            "#fdca26"
                          ],
                          [
                            1,
                            "#f0f921"
                          ]
                        ],
                        "type": "heatmap"
                      }
                    ],
                    "heatmapgl": [
                      {
                        "colorbar": {
                          "outlinewidth": 0,
                          "ticks": ""
                        },
                        "colorscale": [
                          [
                            0,
                            "#0d0887"
                          ],
                          [
                            0.1111111111111111,
                            "#46039f"
                          ],
                          [
                            0.2222222222222222,
                            "#7201a8"
                          ],
                          [
                            0.3333333333333333,
                            "#9c179e"
                          ],
                          [
                            0.4444444444444444,
                            "#bd3786"
                          ],
                          [
                            0.5555555555555556,
                            "#d8576b"
                          ],
                          [
                            0.6666666666666666,
                            "#ed7953"
                          ],
                          [
                            0.7777777777777778,
                            "#fb9f3a"
                          ],
                          [
                            0.8888888888888888,
                            "#fdca26"
                          ],
                          [
                            1,
                            "#f0f921"
                          ]
                        ],
                        "type": "heatmapgl"
                      }
                    ],
                    "histogram": [
                      {
                        "marker": {
                          "pattern": {
                            "fillmode": "overlay",
                            "size": 10,
                            "solidity": 0.2
                          }
                        },
                        "type": "histogram"
                      }
                    ],
                    "histogram2d": [
                      {
                        "colorbar": {
                          "outlinewidth": 0,
                          "ticks": ""
                        },
                        "colorscale": [
                          [
                            0,
                            "#0d0887"
                          ],
                          [
                            0.1111111111111111,
                            "#46039f"
                          ],
                          [
                            0.2222222222222222,
                            "#7201a8"
                          ],
                          [
                            0.3333333333333333,
                            "#9c179e"
                          ],
                          [
                            0.4444444444444444,
                            "#bd3786"
                          ],
                          [
                            0.5555555555555556,
                            "#d8576b"
                          ],
                          [
                            0.6666666666666666,
                            "#ed7953"
                          ],
                          [
                            0.7777777777777778,
                            "#fb9f3a"
                          ],
                          [
                            0.8888888888888888,
                            "#fdca26"
                          ],
                          [
                            1,
                            "#f0f921"
                          ]
                        ],
                        "type": "histogram2d"
                      }
                    ],
                    "histogram2dcontour": [
                      {
                        "colorbar": {
                          "outlinewidth": 0,
                          "ticks": ""
                        },
                        "colorscale": [
                          [
                            0,
                            "#0d0887"
                          ],
                          [
                            0.1111111111111111,
                            "#46039f"
                          ],
                          [
                            0.2222222222222222,
                            "#7201a8"
                          ],
                          [
                            0.3333333333333333,
                            "#9c179e"
                          ],
                          [
                            0.4444444444444444,
                            "#bd3786"
                          ],
                          [
                            0.5555555555555556,
                            "#d8576b"
                          ],
                          [
                            0.6666666666666666,
                            "#ed7953"
                          ],
                          [
                            0.7777777777777778,
                            "#fb9f3a"
                          ],
                          [
                            0.8888888888888888,
                            "#fdca26"
                          ],
                          [
                            1,
                            "#f0f921"
                          ]
                        ],
                        "type": "histogram2dcontour"
                      }
                    ],
                    "mesh3d": [
                      {
                        "colorbar": {
                          "outlinewidth": 0,
                          "ticks": ""
                        },
                        "type": "mesh3d"
                      }
                    ],
                    "parcoords": [
                      {
                        "line": {
                          "colorbar": {
                            "outlinewidth": 0,
                            "ticks": ""
                          }
                        },
                        "type": "parcoords"
                      }
                    ],
                    "pie": [
                      {
                        "automargin": true,
                        "type": "pie"
                      }
                    ],
                    "scatter": [
                      {
                        "fillpattern": {
                          "fillmode": "overlay",
                          "size": 10,
                          "solidity": 0.2
                        },
                        "type": "scatter"
                      }
                    ],
                    "scatter3d": [
                      {
                        "line": {
                          "colorbar": {
                            "outlinewidth": 0,
                            "ticks": ""
                          }
                        },
                        "marker": {
                          "colorbar": {
                            "outlinewidth": 0,
                            "ticks": ""
                          }
                        },
                        "type": "scatter3d"
                      }
                    ],
                    "scattercarpet": [
                      {
                        "marker": {
                          "colorbar": {
                            "outlinewidth": 0,
                            "ticks": ""
                          }
                        },
                        "type": "scattercarpet"
                      }
                    ],
                    "scattergeo": [
                      {
                        "marker": {
                          "colorbar": {
                            "outlinewidth": 0,
                            "ticks": ""
                          }
                        },
                        "type": "scattergeo"
                      }
                    ],
                    "scattergl": [
                      {
                        "marker": {
                          "colorbar": {
                            "outlinewidth": 0,
                            "ticks": ""
                          }
                        },
                        "type": "scattergl"
                      }
                    ],
                    "scattermapbox": [
                      {
                        "marker": {
                          "colorbar": {
                            "outlinewidth": 0,
                            "ticks": ""
                          }
                        },
                        "type": "scattermapbox"
                      }
                    ],
                    "scatterpolar": [
                      {
                        "marker": {
                          "colorbar": {
                            "outlinewidth": 0,
                            "ticks": ""
                          }
                        },
                        "type": "scatterpolar"
                      }
                    ],
                    "scatterpolargl": [
                      {
                        "marker": {
                          "colorbar": {
                            "outlinewidth": 0,
                            "ticks": ""
                          }
                        },
                        "type": "scatterpolargl"
                      }
                    ],
                    "scatterternary": [
                      {
                        "marker": {
                          "colorbar": {
                            "outlinewidth": 0,
                            "ticks": ""
                          }
                        },
                        "type": "scatterternary"
                      }
                    ],
                    "surface": [
                      {
                        "colorbar": {
                          "outlinewidth": 0,
                          "ticks": ""
                        },
                        "colorscale": [
                          [
                            0,
                            "#0d0887"
                          ],
                          [
                            0.1111111111111111,
                            "#46039f"
                          ],
                          [
                            0.2222222222222222,
                            "#7201a8"
                          ],
                          [
                            0.3333333333333333,
                            "#9c179e"
                          ],
                          [
                            0.4444444444444444,
                            "#bd3786"
                          ],
                          [
                            0.5555555555555556,
                            "#d8576b"
                          ],
                          [
                            0.6666666666666666,
                            "#ed7953"
                          ],
                          [
                            0.7777777777777778,
                            "#fb9f3a"
                          ],
                          [
                            0.8888888888888888,
                            "#fdca26"
                          ],
                          [
                            1,
                            "#f0f921"
                          ]
                        ],
                        "type": "surface"
                      }
                    ],
                    "table": [
                      {
                        "cells": {
                          "fill": {
                            "color": "#EBF0F8"
                          },
                          "line": {
                            "color": "white"
                          }
                        },
                        "header": {
                          "fill": {
                            "color": "#C8D4E3"
                          },
                          "line": {
                            "color": "white"
                          }
                        },
                        "type": "table"
                      }
                    ]
                  },
                  "layout": {
                    "annotationdefaults": {
                      "arrowcolor": "#2a3f5f",
                      "arrowhead": 0,
                      "arrowwidth": 1
                    },
                    "autotypenumbers": "strict",
                    "coloraxis": {
                      "colorbar": {
                        "outlinewidth": 0,
                        "ticks": ""
                      }
                    },
                    "colorscale": {
                      "diverging": [
                        [
                          0,
                          "#8e0152"
                        ],
                        [
                          0.1,
                          "#c51b7d"
                        ],
                        [
                          0.2,
                          "#de77ae"
                        ],
                        [
                          0.3,
                          "#f1b6da"
                        ],
                        [
                          0.4,
                          "#fde0ef"
                        ],
                        [
                          0.5,
                          "#f7f7f7"
                        ],
                        [
                          0.6,
                          "#e6f5d0"
                        ],
                        [
                          0.7,
                          "#b8e186"
                        ],
                        [
                          0.8,
                          "#7fbc41"
                        ],
                        [
                          0.9,
                          "#4d9221"
                        ],
                        [
                          1,
                          "#276419"
                        ]
                      ],
                      "sequential": [
                        [
                          0,
                          "#0d0887"
                        ],
                        [
                          0.1111111111111111,
                          "#46039f"
                        ],
                        [
                          0.2222222222222222,
                          "#7201a8"
                        ],
                        [
                          0.3333333333333333,
                          "#9c179e"
                        ],
                        [
                          0.4444444444444444,
                          "#bd3786"
                        ],
                        [
                          0.5555555555555556,
                          "#d8576b"
                        ],
                        [
                          0.6666666666666666,
                          "#ed7953"
                        ],
                        [
                          0.7777777777777778,
                          "#fb9f3a"
                        ],
                        [
                          0.8888888888888888,
                          "#fdca26"
                        ],
                        [
                          1,
                          "#f0f921"
                        ]
                      ],
                      "sequentialminus": [
                        [
                          0,
                          "#0d0887"
                        ],
                        [
                          0.1111111111111111,
                          "#46039f"
                        ],
                        [
                          0.2222222222222222,
                          "#7201a8"
                        ],
                        [
                          0.3333333333333333,
                          "#9c179e"
                        ],
                        [
                          0.4444444444444444,
                          "#bd3786"
                        ],
                        [
                          0.5555555555555556,
                          "#d8576b"
                        ],
                        [
                          0.6666666666666666,
                          "#ed7953"
                        ],
                        [
                          0.7777777777777778,
                          "#fb9f3a"
                        ],
                        [
                          0.8888888888888888,
                          "#fdca26"
                        ],
                        [
                          1,
                          "#f0f921"
                        ]
                      ]
                    },
                    "colorway": [
                      "#636efa",
                      "#EF553B",
                      "#00cc96",
                      "#ab63fa",
                      "#FFA15A",
                      "#19d3f3",
                      "#FF6692",
                      "#B6E880",
                      "#FF97FF",
                      "#FECB52"
                    ],
                    "font": {
                      "color": "#2a3f5f"
                    },
                    "geo": {
                      "bgcolor": "white",
                      "lakecolor": "white",
                      "landcolor": "#E5ECF6",
                      "showlakes": true,
                      "showland": true,
                      "subunitcolor": "white"
                    },
                    "hoverlabel": {
                      "align": "left"
                    },
                    "hovermode": "closest",
                    "mapbox": {
                      "style": "light"
                    },
                    "paper_bgcolor": "white",
                    "plot_bgcolor": "#E5ECF6",
                    "polar": {
                      "angularaxis": {
                        "gridcolor": "white",
                        "linecolor": "white",
                        "ticks": ""
                      },
                      "bgcolor": "#E5ECF6",
                      "radialaxis": {
                        "gridcolor": "white",
                        "linecolor": "white",
                        "ticks": ""
                      }
                    },
                    "scene": {
                      "xaxis": {
                        "backgroundcolor": "#E5ECF6",
                        "gridcolor": "white",
                        "gridwidth": 2,
                        "linecolor": "white",
                        "showbackground": true,
                        "ticks": "",
                        "zerolinecolor": "white"
                      },
                      "yaxis": {
                        "backgroundcolor": "#E5ECF6",
                        "gridcolor": "white",
                        "gridwidth": 2,
                        "linecolor": "white",
                        "showbackground": true,
                        "ticks": "",
                        "zerolinecolor": "white"
                      },
                      "zaxis": {
                        "backgroundcolor": "#E5ECF6",
                        "gridcolor": "white",
                        "gridwidth": 2,
                        "linecolor": "white",
                        "showbackground": true,
                        "ticks": "",
                        "zerolinecolor": "white"
                      }
                    },
                    "shapedefaults": {
                      "line": {
                        "color": "#2a3f5f"
                      }
                    },
                    "ternary": {
                      "aaxis": {
                        "gridcolor": "white",
                        "linecolor": "white",
                        "ticks": ""
                      },
                      "baxis": {
                        "gridcolor": "white",
                        "linecolor": "white",
                        "ticks": ""
                      },
                      "bgcolor": "#E5ECF6",
                      "caxis": {
                        "gridcolor": "white",
                        "linecolor": "white",
                        "ticks": ""
                      }
                    },
                    "title": {
                      "x": 0.05
                    },
                    "xaxis": {
                      "automargin": true,
                      "gridcolor": "white",
                      "linecolor": "white",
                      "ticks": "",
                      "title": {
                        "standoff": 15
                      },
                      "zerolinecolor": "white",
                      "zerolinewidth": 2
                    },
                    "yaxis": {
                      "automargin": true,
                      "gridcolor": "white",
                      "linecolor": "white",
                      "ticks": "",
                      "title": {
                        "standoff": 15
                      },
                      "zerolinecolor": "white",
                      "zerolinewidth": 2
                    }
                  }
                },
                "title": {
                  "text": "Scatter Plot of Songs (Length vs Popularity)"
                },
                "xaxis": {
                  "anchor": "y",
                  "domain": [
                    0,
                    1
                  ],
                  "title": {
                    "text": "length"
                  }
                },
                "yaxis": {
                  "anchor": "x",
                  "domain": [
                    0,
                    1
                  ],
                  "title": {
                    "text": "popularity"
                  }
                }
              }
            }
          },
          "metadata": {},
          "output_type": "display_data"
        }
      ],
      "source": [
        "fig = px.scatter(\n",
        "    naija_playlist,\n",
        "    x=\"length\",\n",
        "    y=\"popularity\",\n",
        "    color=\"artist\",\n",
        "    hover_name=\"name\",\n",
        "    title=\"Scatter Plot of Songs (Length vs Popularity)\"\n",
        ")\n",
        "fig.show()\n"
      ]
    },
    {
      "cell_type": "code",
      "execution_count": 19,
      "metadata": {
        "colab": {
          "base_uri": "https://localhost:8080/",
          "height": 542
        },
        "id": "lTIJdPHHZcX6",
        "outputId": "9aacdcb5-842d-48ee-d47c-19b9294b38fc"
      },
      "outputs": [
        {
          "data": {
            "application/vnd.plotly.v1+json": {
              "config": {
                "plotlyServerURL": "https://plot.ly"
              },
              "data": [
                {
                  "domain": {
                    "x": [
                      0,
                      1
                    ],
                    "y": [
                      0,
                      1
                    ]
                  },
                  "hovertemplate": "artist=%{label}<br>popularity=%{value}<extra></extra>",
                  "labels": [
                    "Jasleen Royal",
                    "Vishal-Shekhar",
                    "Amit Trivedi",
                    "Various Artists"
                  ],
                  "legendgroup": "",
                  "name": "",
                  "showlegend": true,
                  "textinfo": "percent+label",
                  "textposition": "inside",
                  "type": "pie",
                  "values": [
                    75,
                    74,
                    73,
                    71
                  ]
                }
              ],
              "layout": {
                "legend": {
                  "tracegroupgap": 0
                },
                "template": {
                  "data": {
                    "bar": [
                      {
                        "error_x": {
                          "color": "#2a3f5f"
                        },
                        "error_y": {
                          "color": "#2a3f5f"
                        },
                        "marker": {
                          "line": {
                            "color": "#E5ECF6",
                            "width": 0.5
                          },
                          "pattern": {
                            "fillmode": "overlay",
                            "size": 10,
                            "solidity": 0.2
                          }
                        },
                        "type": "bar"
                      }
                    ],
                    "barpolar": [
                      {
                        "marker": {
                          "line": {
                            "color": "#E5ECF6",
                            "width": 0.5
                          },
                          "pattern": {
                            "fillmode": "overlay",
                            "size": 10,
                            "solidity": 0.2
                          }
                        },
                        "type": "barpolar"
                      }
                    ],
                    "carpet": [
                      {
                        "aaxis": {
                          "endlinecolor": "#2a3f5f",
                          "gridcolor": "white",
                          "linecolor": "white",
                          "minorgridcolor": "white",
                          "startlinecolor": "#2a3f5f"
                        },
                        "baxis": {
                          "endlinecolor": "#2a3f5f",
                          "gridcolor": "white",
                          "linecolor": "white",
                          "minorgridcolor": "white",
                          "startlinecolor": "#2a3f5f"
                        },
                        "type": "carpet"
                      }
                    ],
                    "choropleth": [
                      {
                        "colorbar": {
                          "outlinewidth": 0,
                          "ticks": ""
                        },
                        "type": "choropleth"
                      }
                    ],
                    "contour": [
                      {
                        "colorbar": {
                          "outlinewidth": 0,
                          "ticks": ""
                        },
                        "colorscale": [
                          [
                            0,
                            "#0d0887"
                          ],
                          [
                            0.1111111111111111,
                            "#46039f"
                          ],
                          [
                            0.2222222222222222,
                            "#7201a8"
                          ],
                          [
                            0.3333333333333333,
                            "#9c179e"
                          ],
                          [
                            0.4444444444444444,
                            "#bd3786"
                          ],
                          [
                            0.5555555555555556,
                            "#d8576b"
                          ],
                          [
                            0.6666666666666666,
                            "#ed7953"
                          ],
                          [
                            0.7777777777777778,
                            "#fb9f3a"
                          ],
                          [
                            0.8888888888888888,
                            "#fdca26"
                          ],
                          [
                            1,
                            "#f0f921"
                          ]
                        ],
                        "type": "contour"
                      }
                    ],
                    "contourcarpet": [
                      {
                        "colorbar": {
                          "outlinewidth": 0,
                          "ticks": ""
                        },
                        "type": "contourcarpet"
                      }
                    ],
                    "heatmap": [
                      {
                        "colorbar": {
                          "outlinewidth": 0,
                          "ticks": ""
                        },
                        "colorscale": [
                          [
                            0,
                            "#0d0887"
                          ],
                          [
                            0.1111111111111111,
                            "#46039f"
                          ],
                          [
                            0.2222222222222222,
                            "#7201a8"
                          ],
                          [
                            0.3333333333333333,
                            "#9c179e"
                          ],
                          [
                            0.4444444444444444,
                            "#bd3786"
                          ],
                          [
                            0.5555555555555556,
                            "#d8576b"
                          ],
                          [
                            0.6666666666666666,
                            "#ed7953"
                          ],
                          [
                            0.7777777777777778,
                            "#fb9f3a"
                          ],
                          [
                            0.8888888888888888,
                            "#fdca26"
                          ],
                          [
                            1,
                            "#f0f921"
                          ]
                        ],
                        "type": "heatmap"
                      }
                    ],
                    "heatmapgl": [
                      {
                        "colorbar": {
                          "outlinewidth": 0,
                          "ticks": ""
                        },
                        "colorscale": [
                          [
                            0,
                            "#0d0887"
                          ],
                          [
                            0.1111111111111111,
                            "#46039f"
                          ],
                          [
                            0.2222222222222222,
                            "#7201a8"
                          ],
                          [
                            0.3333333333333333,
                            "#9c179e"
                          ],
                          [
                            0.4444444444444444,
                            "#bd3786"
                          ],
                          [
                            0.5555555555555556,
                            "#d8576b"
                          ],
                          [
                            0.6666666666666666,
                            "#ed7953"
                          ],
                          [
                            0.7777777777777778,
                            "#fb9f3a"
                          ],
                          [
                            0.8888888888888888,
                            "#fdca26"
                          ],
                          [
                            1,
                            "#f0f921"
                          ]
                        ],
                        "type": "heatmapgl"
                      }
                    ],
                    "histogram": [
                      {
                        "marker": {
                          "pattern": {
                            "fillmode": "overlay",
                            "size": 10,
                            "solidity": 0.2
                          }
                        },
                        "type": "histogram"
                      }
                    ],
                    "histogram2d": [
                      {
                        "colorbar": {
                          "outlinewidth": 0,
                          "ticks": ""
                        },
                        "colorscale": [
                          [
                            0,
                            "#0d0887"
                          ],
                          [
                            0.1111111111111111,
                            "#46039f"
                          ],
                          [
                            0.2222222222222222,
                            "#7201a8"
                          ],
                          [
                            0.3333333333333333,
                            "#9c179e"
                          ],
                          [
                            0.4444444444444444,
                            "#bd3786"
                          ],
                          [
                            0.5555555555555556,
                            "#d8576b"
                          ],
                          [
                            0.6666666666666666,
                            "#ed7953"
                          ],
                          [
                            0.7777777777777778,
                            "#fb9f3a"
                          ],
                          [
                            0.8888888888888888,
                            "#fdca26"
                          ],
                          [
                            1,
                            "#f0f921"
                          ]
                        ],
                        "type": "histogram2d"
                      }
                    ],
                    "histogram2dcontour": [
                      {
                        "colorbar": {
                          "outlinewidth": 0,
                          "ticks": ""
                        },
                        "colorscale": [
                          [
                            0,
                            "#0d0887"
                          ],
                          [
                            0.1111111111111111,
                            "#46039f"
                          ],
                          [
                            0.2222222222222222,
                            "#7201a8"
                          ],
                          [
                            0.3333333333333333,
                            "#9c179e"
                          ],
                          [
                            0.4444444444444444,
                            "#bd3786"
                          ],
                          [
                            0.5555555555555556,
                            "#d8576b"
                          ],
                          [
                            0.6666666666666666,
                            "#ed7953"
                          ],
                          [
                            0.7777777777777778,
                            "#fb9f3a"
                          ],
                          [
                            0.8888888888888888,
                            "#fdca26"
                          ],
                          [
                            1,
                            "#f0f921"
                          ]
                        ],
                        "type": "histogram2dcontour"
                      }
                    ],
                    "mesh3d": [
                      {
                        "colorbar": {
                          "outlinewidth": 0,
                          "ticks": ""
                        },
                        "type": "mesh3d"
                      }
                    ],
                    "parcoords": [
                      {
                        "line": {
                          "colorbar": {
                            "outlinewidth": 0,
                            "ticks": ""
                          }
                        },
                        "type": "parcoords"
                      }
                    ],
                    "pie": [
                      {
                        "automargin": true,
                        "type": "pie"
                      }
                    ],
                    "scatter": [
                      {
                        "fillpattern": {
                          "fillmode": "overlay",
                          "size": 10,
                          "solidity": 0.2
                        },
                        "type": "scatter"
                      }
                    ],
                    "scatter3d": [
                      {
                        "line": {
                          "colorbar": {
                            "outlinewidth": 0,
                            "ticks": ""
                          }
                        },
                        "marker": {
                          "colorbar": {
                            "outlinewidth": 0,
                            "ticks": ""
                          }
                        },
                        "type": "scatter3d"
                      }
                    ],
                    "scattercarpet": [
                      {
                        "marker": {
                          "colorbar": {
                            "outlinewidth": 0,
                            "ticks": ""
                          }
                        },
                        "type": "scattercarpet"
                      }
                    ],
                    "scattergeo": [
                      {
                        "marker": {
                          "colorbar": {
                            "outlinewidth": 0,
                            "ticks": ""
                          }
                        },
                        "type": "scattergeo"
                      }
                    ],
                    "scattergl": [
                      {
                        "marker": {
                          "colorbar": {
                            "outlinewidth": 0,
                            "ticks": ""
                          }
                        },
                        "type": "scattergl"
                      }
                    ],
                    "scattermapbox": [
                      {
                        "marker": {
                          "colorbar": {
                            "outlinewidth": 0,
                            "ticks": ""
                          }
                        },
                        "type": "scattermapbox"
                      }
                    ],
                    "scatterpolar": [
                      {
                        "marker": {
                          "colorbar": {
                            "outlinewidth": 0,
                            "ticks": ""
                          }
                        },
                        "type": "scatterpolar"
                      }
                    ],
                    "scatterpolargl": [
                      {
                        "marker": {
                          "colorbar": {
                            "outlinewidth": 0,
                            "ticks": ""
                          }
                        },
                        "type": "scatterpolargl"
                      }
                    ],
                    "scatterternary": [
                      {
                        "marker": {
                          "colorbar": {
                            "outlinewidth": 0,
                            "ticks": ""
                          }
                        },
                        "type": "scatterternary"
                      }
                    ],
                    "surface": [
                      {
                        "colorbar": {
                          "outlinewidth": 0,
                          "ticks": ""
                        },
                        "colorscale": [
                          [
                            0,
                            "#0d0887"
                          ],
                          [
                            0.1111111111111111,
                            "#46039f"
                          ],
                          [
                            0.2222222222222222,
                            "#7201a8"
                          ],
                          [
                            0.3333333333333333,
                            "#9c179e"
                          ],
                          [
                            0.4444444444444444,
                            "#bd3786"
                          ],
                          [
                            0.5555555555555556,
                            "#d8576b"
                          ],
                          [
                            0.6666666666666666,
                            "#ed7953"
                          ],
                          [
                            0.7777777777777778,
                            "#fb9f3a"
                          ],
                          [
                            0.8888888888888888,
                            "#fdca26"
                          ],
                          [
                            1,
                            "#f0f921"
                          ]
                        ],
                        "type": "surface"
                      }
                    ],
                    "table": [
                      {
                        "cells": {
                          "fill": {
                            "color": "#EBF0F8"
                          },
                          "line": {
                            "color": "white"
                          }
                        },
                        "header": {
                          "fill": {
                            "color": "#C8D4E3"
                          },
                          "line": {
                            "color": "white"
                          }
                        },
                        "type": "table"
                      }
                    ]
                  },
                  "layout": {
                    "annotationdefaults": {
                      "arrowcolor": "#2a3f5f",
                      "arrowhead": 0,
                      "arrowwidth": 1
                    },
                    "autotypenumbers": "strict",
                    "coloraxis": {
                      "colorbar": {
                        "outlinewidth": 0,
                        "ticks": ""
                      }
                    },
                    "colorscale": {
                      "diverging": [
                        [
                          0,
                          "#8e0152"
                        ],
                        [
                          0.1,
                          "#c51b7d"
                        ],
                        [
                          0.2,
                          "#de77ae"
                        ],
                        [
                          0.3,
                          "#f1b6da"
                        ],
                        [
                          0.4,
                          "#fde0ef"
                        ],
                        [
                          0.5,
                          "#f7f7f7"
                        ],
                        [
                          0.6,
                          "#e6f5d0"
                        ],
                        [
                          0.7,
                          "#b8e186"
                        ],
                        [
                          0.8,
                          "#7fbc41"
                        ],
                        [
                          0.9,
                          "#4d9221"
                        ],
                        [
                          1,
                          "#276419"
                        ]
                      ],
                      "sequential": [
                        [
                          0,
                          "#0d0887"
                        ],
                        [
                          0.1111111111111111,
                          "#46039f"
                        ],
                        [
                          0.2222222222222222,
                          "#7201a8"
                        ],
                        [
                          0.3333333333333333,
                          "#9c179e"
                        ],
                        [
                          0.4444444444444444,
                          "#bd3786"
                        ],
                        [
                          0.5555555555555556,
                          "#d8576b"
                        ],
                        [
                          0.6666666666666666,
                          "#ed7953"
                        ],
                        [
                          0.7777777777777778,
                          "#fb9f3a"
                        ],
                        [
                          0.8888888888888888,
                          "#fdca26"
                        ],
                        [
                          1,
                          "#f0f921"
                        ]
                      ],
                      "sequentialminus": [
                        [
                          0,
                          "#0d0887"
                        ],
                        [
                          0.1111111111111111,
                          "#46039f"
                        ],
                        [
                          0.2222222222222222,
                          "#7201a8"
                        ],
                        [
                          0.3333333333333333,
                          "#9c179e"
                        ],
                        [
                          0.4444444444444444,
                          "#bd3786"
                        ],
                        [
                          0.5555555555555556,
                          "#d8576b"
                        ],
                        [
                          0.6666666666666666,
                          "#ed7953"
                        ],
                        [
                          0.7777777777777778,
                          "#fb9f3a"
                        ],
                        [
                          0.8888888888888888,
                          "#fdca26"
                        ],
                        [
                          1,
                          "#f0f921"
                        ]
                      ]
                    },
                    "colorway": [
                      "#636efa",
                      "#EF553B",
                      "#00cc96",
                      "#ab63fa",
                      "#FFA15A",
                      "#19d3f3",
                      "#FF6692",
                      "#B6E880",
                      "#FF97FF",
                      "#FECB52"
                    ],
                    "font": {
                      "color": "#2a3f5f"
                    },
                    "geo": {
                      "bgcolor": "white",
                      "lakecolor": "white",
                      "landcolor": "#E5ECF6",
                      "showlakes": true,
                      "showland": true,
                      "subunitcolor": "white"
                    },
                    "hoverlabel": {
                      "align": "left"
                    },
                    "hovermode": "closest",
                    "mapbox": {
                      "style": "light"
                    },
                    "paper_bgcolor": "white",
                    "plot_bgcolor": "#E5ECF6",
                    "polar": {
                      "angularaxis": {
                        "gridcolor": "white",
                        "linecolor": "white",
                        "ticks": ""
                      },
                      "bgcolor": "#E5ECF6",
                      "radialaxis": {
                        "gridcolor": "white",
                        "linecolor": "white",
                        "ticks": ""
                      }
                    },
                    "scene": {
                      "xaxis": {
                        "backgroundcolor": "#E5ECF6",
                        "gridcolor": "white",
                        "gridwidth": 2,
                        "linecolor": "white",
                        "showbackground": true,
                        "ticks": "",
                        "zerolinecolor": "white"
                      },
                      "yaxis": {
                        "backgroundcolor": "#E5ECF6",
                        "gridcolor": "white",
                        "gridwidth": 2,
                        "linecolor": "white",
                        "showbackground": true,
                        "ticks": "",
                        "zerolinecolor": "white"
                      },
                      "zaxis": {
                        "backgroundcolor": "#E5ECF6",
                        "gridcolor": "white",
                        "gridwidth": 2,
                        "linecolor": "white",
                        "showbackground": true,
                        "ticks": "",
                        "zerolinecolor": "white"
                      }
                    },
                    "shapedefaults": {
                      "line": {
                        "color": "#2a3f5f"
                      }
                    },
                    "ternary": {
                      "aaxis": {
                        "gridcolor": "white",
                        "linecolor": "white",
                        "ticks": ""
                      },
                      "baxis": {
                        "gridcolor": "white",
                        "linecolor": "white",
                        "ticks": ""
                      },
                      "bgcolor": "#E5ECF6",
                      "caxis": {
                        "gridcolor": "white",
                        "linecolor": "white",
                        "ticks": ""
                      }
                    },
                    "title": {
                      "x": 0.05
                    },
                    "xaxis": {
                      "automargin": true,
                      "gridcolor": "white",
                      "linecolor": "white",
                      "ticks": "",
                      "title": {
                        "standoff": 15
                      },
                      "zerolinecolor": "white",
                      "zerolinewidth": 2
                    },
                    "yaxis": {
                      "automargin": true,
                      "gridcolor": "white",
                      "linecolor": "white",
                      "ticks": "",
                      "title": {
                        "standoff": 15
                      },
                      "zerolinecolor": "white",
                      "zerolinewidth": 2
                    }
                  }
                },
                "title": {
                  "text": "Popularity of Songs Greater than 70 by Artist in this Playlist"
                }
              }
            }
          },
          "metadata": {},
          "output_type": "display_data"
        }
      ],
      "source": [
        "# Filter songs with popularity > 70\n",
        "pop_96 = naija_playlist.loc[naija_playlist['popularity'] > 70].sort_values(by='popularity', ascending=False)\n",
        "\n",
        "# Pie chart\n",
        "fig = px.pie(\n",
        "    pop_96,\n",
        "    values='popularity',\n",
        "    names='artist',\n",
        "    title='Popularity of Songs Greater than 70 by Artist in this Playlist'\n",
        ")\n",
        "fig.update_traces(textposition='inside', textinfo='percent+label')"
      ]
    }
  ],
  "metadata": {
    "colab": {
      "provenance": []
    },
    "kernelspec": {
      "display_name": "base",
      "language": "python",
      "name": "python3"
    },
    "language_info": {
      "codemirror_mode": {
        "name": "ipython",
        "version": 3
      },
      "file_extension": ".py",
      "mimetype": "text/x-python",
      "name": "python",
      "nbconvert_exporter": "python",
      "pygments_lexer": "ipython3",
      "version": "3.13.5"
    }
  },
  "nbformat": 4,
  "nbformat_minor": 0
}
